{
 "cells": [
  {
   "cell_type": "code",
   "execution_count": 1,
   "id": "888d098f-52d5-4c5d-b1bf-56850a249422",
   "metadata": {},
   "outputs": [],
   "source": [
    "# Libraries\n",
    "import pandas as pd\n",
    "import numpy as np\n",
    "pd.set_option('display.float_format', '{:.0f}'.format)\n",
    "\n",
    "import matplotlib.pyplot as plt\n",
    "from io import StringIO\n",
    "\n",
    "import nltk\n",
    "from nltk.tokenize import sent_tokenize, word_tokenize\n",
    "\n",
    "import torch\n",
    "from torch.utils.data import DataLoader\n",
    "from transformers import AutoTokenizer, BertTokenizer, BertForSequenceClassification, Trainer, TrainingArguments, AutoModelForSequenceClassification, DataCollatorWithPadding\n",
    "from tokenizers import AddedToken\n",
    "from transformers import AutoConfig\n",
    "\n",
    "\n",
    "from datasets import Dataset, load_dataset, concatenate_datasets\n",
    "import evaluate\n",
    "\n",
    "from sklearn.utils import shuffle\n",
    "from sklearn.decomposition import PCA\n",
    "from sklearn.decomposition import FastICA\n",
    "from sklearn.metrics import cohen_kappa_score\n",
    "from sklearn.model_selection import train_test_split\n",
    "from sklearn.model_selection import StratifiedKFold\n",
    "\n"
   ]
  },
  {
   "cell_type": "markdown",
   "id": "bfc543e3-1163-4a6b-8e17-1419a2d5845c",
   "metadata": {},
   "source": [
    "## Data Prep"
   ]
  },
  {
   "cell_type": "code",
   "execution_count": 3,
   "id": "1bc6754e-8806-4bd1-8b0b-24d56fead75b",
   "metadata": {},
   "outputs": [
    {
     "name": "stdout",
     "output_type": "stream",
     "text": [
      "Training Set: (3911, 26)\n",
      "Test Set: (2571, 26)\n",
      "Ellipse Corpus: (6482, 26)\n",
      "New Training Set: (5184, 13)\n",
      "New Validation Set: (649, 13)\n",
      "New Test Set: (649, 13)\n"
     ]
    }
   ],
   "source": [
    "train = pd.read_csv(\"..\\ELLIPSE_Final_github_train.csv\")\n",
    "test = pd.read_csv(\"..\\ELLIPSE_Final_github_test.csv\")\n",
    "\n",
    "print(\"Training Set:\", train.shape)\n",
    "print(\"Test Set:\", test.shape)\n",
    "\n",
    "combined_df = pd.concat([train, test], ignore_index=True)\n",
    "print(\"Ellipse Corpus:\", combined_df.shape)\n",
    "\n",
    "# transform labels\n",
    "target_label = 'Overall'\n",
    "combined_df['label'] = combined_df[target_label]*2\n",
    "\n",
    "# slicing\n",
    "combined_df = combined_df[['text_id_kaggle', 'full_text', 'prompt', 'num_words', 'num_sent', 'Overall', 'Cohesion', 'Syntax', 'Vocabulary', 'Phraseology', 'Grammar', 'Conventions', 'label']]\n",
    "\n",
    "# splitting 75% train 15% val and 15% test\n",
    "## raw_train test\n",
    "train, df_test = train_test_split(\n",
    "    combined_df, \n",
    "    test_size=0.1, \n",
    "    random_state=42,\n",
    "    stratify=combined_df[\"label\"])\n",
    "\n",
    "## train val\n",
    "df_train, df_val = train_test_split(\n",
    "    train, \n",
    "    test_size=0.111111, \n",
    "    random_state=42,\n",
    "    stratify=train[\"label\"])\n",
    "\n",
    "print(\"New Training Set:\", df_train.shape)\n",
    "print(\"New Validation Set:\", df_val.shape)\n",
    "print(\"New Test Set:\", df_test.shape)"
   ]
  },
  {
   "cell_type": "code",
   "execution_count": 17,
   "id": "aedd67fa-3085-4208-82d0-cb2b6806845a",
   "metadata": {},
   "outputs": [],
   "source": [
    "# # saving\n",
    "# df_train.to_csv('ellipse_train.csv', index = False)\n",
    "# df_val.to_csv('ellipse_val.csv', index = False)\n",
    "# df_test.to_csv('ellipse_test.csv', index = False)"
   ]
  },
  {
   "cell_type": "markdown",
   "id": "898f9469-ab9d-477e-9149-e8c21eee2f2d",
   "metadata": {},
   "source": [
    "## EDA"
   ]
  },
  {
   "cell_type": "code",
   "execution_count": 3,
   "id": "76862219-c0b0-439a-8047-7a89a42ee278",
   "metadata": {},
   "outputs": [],
   "source": [
    "# # reload the data\n",
    "df_train = pd.read_csv(r\"ellipse_train.csv\")\n",
    "df_val = pd.read_csv(r\"ellipse_val.csv\")\n",
    "df_test = pd.read_csv(r\"ellipse_test.csv\")\n",
    "\n",
    "# float conversion\n",
    "df_train['label'] = df_train['label'].astype('float')\n",
    "df_val['label'] = df_val['label'].astype('float')\n",
    "df_test['label'] = df_test['label'].astype('float')\n",
    "\n",
    "# HF datasets\n",
    "train_dataset = Dataset.from_pandas(df_train)\n",
    "val_dataset = Dataset.from_pandas(df_val)\n",
    "test_dataset = Dataset.from_pandas(df_test)"
   ]
  },
  {
   "cell_type": "code",
   "execution_count": 18,
   "id": "a7aa6755-8587-41b5-a073-f4120f34a073",
   "metadata": {},
   "outputs": [
    {
     "name": "stdout",
     "output_type": "stream",
     "text": [
      "label\n",
      "6     1867\n",
      "7     1041\n",
      "5      911\n",
      "8      730\n",
      "4      444\n",
      "9      123\n",
      "10      32\n",
      "3       27\n",
      "2        9\n",
      "Name: count, dtype: int64\n",
      "label\n",
      "6     234\n",
      "7     131\n",
      "5     114\n",
      "8      91\n",
      "4      56\n",
      "9      15\n",
      "10      4\n",
      "3       3\n",
      "2       1\n",
      "Name: count, dtype: int64\n",
      "label\n",
      "6     234\n",
      "7     130\n",
      "5     114\n",
      "8      92\n",
      "4      56\n",
      "9      15\n",
      "10      4\n",
      "3       3\n",
      "2       1\n",
      "Name: count, dtype: int64\n"
     ]
    }
   ],
   "source": [
    "print(df_train.label.value_counts())\n",
    "print(df_val.label.value_counts())\n",
    "print(df_test.label.value_counts())"
   ]
  },
  {
   "cell_type": "code",
   "execution_count": null,
   "id": "5a970dbd-cabb-4196-b644-05f6068e7929",
   "metadata": {},
   "outputs": [],
   "source": []
  },
  {
   "cell_type": "markdown",
   "id": "ad18a1af-ceed-4598-836b-3d3f2f148e41",
   "metadata": {},
   "source": [
    "## AES Training"
   ]
  },
  {
   "cell_type": "code",
   "execution_count": 5,
   "id": "cb6bd934-f1c2-4350-8e26-4568f3f69085",
   "metadata": {},
   "outputs": [
    {
     "name": "stderr",
     "output_type": "stream",
     "text": [
      "Some weights of BertForSequenceClassification were not initialized from the model checkpoint at bert-base-cased and are newly initialized: ['classifier.bias', 'classifier.weight']\n",
      "You should probably TRAIN this model on a down-stream task to be able to use it for predictions and inference.\n"
     ]
    }
   ],
   "source": [
    "###### Load in transformer checkpoint\n",
    "check_point = 'bert-base-cased'\n",
    "\n",
    "# Tokenizer from a pretrained model\n",
    "tokenizer = AutoTokenizer.from_pretrained(check_point)\n",
    "\n",
    "# Load model\n",
    "model = AutoModelForSequenceClassification.from_pretrained(check_point, \n",
    "                                                           num_labels=1, \n",
    "                                                           output_hidden_states=False)"
   ]
  },
  {
   "cell_type": "code",
   "execution_count": 6,
   "id": "ff29c7ce-a284-4b2b-9ae0-9cf47328902c",
   "metadata": {},
   "outputs": [
    {
     "data": {
      "application/vnd.jupyter.widget-view+json": {
       "model_id": "cef0703bd1054be6bf9f5d645c6e4d76",
       "version_major": 2,
       "version_minor": 0
      },
      "text/plain": [
       "Map:   0%|          | 0/5184 [00:00<?, ? examples/s]"
      ]
     },
     "metadata": {},
     "output_type": "display_data"
    },
    {
     "data": {
      "application/vnd.jupyter.widget-view+json": {
       "model_id": "487d9dbdefc34528bcdcead878cb3814",
       "version_major": 2,
       "version_minor": 0
      },
      "text/plain": [
       "Map:   0%|          | 0/649 [00:00<?, ? examples/s]"
      ]
     },
     "metadata": {},
     "output_type": "display_data"
    },
    {
     "data": {
      "application/vnd.jupyter.widget-view+json": {
       "model_id": "46f4d98569814a708c43eead2e9e1b6e",
       "version_major": 2,
       "version_minor": 0
      },
      "text/plain": [
       "Map:   0%|          | 0/649 [00:00<?, ? examples/s]"
      ]
     },
     "metadata": {},
     "output_type": "display_data"
    }
   ],
   "source": [
    "# tokenize the examples\n",
    "def convert_to_features(example_batch):\n",
    "    \n",
    "    input_encodings = tokenizer(example_batch[\"full_text\"],\n",
    "                      max_length=512,\n",
    "                      truncation=True,\n",
    "                      padding=\"max_length\")\n",
    "\n",
    "    encodings = {'input_ids': input_encodings['input_ids'],\n",
    "               'attention_mask': input_encodings['attention_mask'],\n",
    "               'labels': example_batch['label']}\n",
    "\n",
    "    return encodings\n",
    "\n",
    "# mapping\n",
    "train_set = train_dataset.map(convert_to_features, batched=True, remove_columns=train_dataset.column_names)\n",
    "val_set = val_dataset.map(convert_to_features, batched=True, remove_columns=val_dataset.column_names)\n",
    "test_set = test_dataset.map(convert_to_features, batched=True, remove_columns=test_dataset.column_names)"
   ]
  },
  {
   "cell_type": "code",
   "execution_count": 7,
   "id": "2bfce713-3729-422f-9e90-d6b1a37bca27",
   "metadata": {},
   "outputs": [],
   "source": [
    "def compute_metrics_for_regression(eval_pred):\n",
    "    \n",
    "    predictions, labels = eval_pred\n",
    "    qwk = cohen_kappa_score(labels, predictions.round().clip(2,10).astype(int), weights='quadratic')\n",
    "    results = {\n",
    "        'qwk': qwk\n",
    "    }\n",
    "    return results"
   ]
  },
  {
   "cell_type": "code",
   "execution_count": 10,
   "id": "787f6061-f286-4cb0-9d05-58914490b19e",
   "metadata": {},
   "outputs": [
    {
     "name": "stderr",
     "output_type": "stream",
     "text": [
      "C:\\Users\\lingc\\anaconda3\\Lib\\site-packages\\transformers\\training_args.py:1575: FutureWarning: `evaluation_strategy` is deprecated and will be removed in version 4.46 of 🤗 Transformers. Use `eval_strategy` instead\n",
      "  warnings.warn(\n"
     ]
    }
   ],
   "source": [
    "training_args = TrainingArguments(\n",
    "        output_dir='./bert_base_cased_per_AES',\n",
    "        per_device_train_batch_size=32,\n",
    "        per_device_eval_batch_size=32,\n",
    "        gradient_accumulation_steps=2,\n",
    "        learning_rate= 1e-5,\n",
    "        num_train_epochs= 8,\n",
    "        warmup_ratio= 0.05,\n",
    "        lr_scheduler_type=\"linear\",\n",
    "        optim= 'adamw_torch',\n",
    "        save_strategy= \"epoch\",\n",
    "        evaluation_strategy= \"epoch\",\n",
    "        seed= 33,\n",
    "        load_best_model_at_end=True,\n",
    "        metric_for_best_model= \"qwk\",\n",
    "        greater_is_better= True,\n",
    "        save_total_limit= 1,\n",
    ")\n"
   ]
  },
  {
   "cell_type": "code",
   "execution_count": 19,
   "id": "d11ee84d-8c41-4e4c-b5d5-f89dea35eeb8",
   "metadata": {},
   "outputs": [],
   "source": [
    "trainer = Trainer(\n",
    "    model=model,\n",
    "    args=training_args,\n",
    "    train_dataset=train_set,\n",
    "    eval_dataset=val_set,\n",
    "    tokenizer=tokenizer,\n",
    "    compute_metrics=compute_metrics_for_regression,\n",
    ")\n",
    "\n",
    "trainer.train()"
   ]
  },
  {
   "cell_type": "code",
   "execution_count": 20,
   "id": "a71410b1-094f-415a-bbc3-3c18d16762c6",
   "metadata": {},
   "outputs": [
    {
     "data": {
      "text/html": [
       "\n",
       "    <div>\n",
       "      \n",
       "      <progress value='21' max='21' style='width:300px; height:20px; vertical-align: middle;'></progress>\n",
       "      [21/21 00:02]\n",
       "    </div>\n",
       "    "
      ],
      "text/plain": [
       "<IPython.core.display.HTML object>"
      ]
     },
     "metadata": {},
     "output_type": "display_data"
    },
    {
     "data": {
      "text/plain": [
       "{'eval_loss': 0.6683961749076843,\n",
       " 'eval_qwk': 0.7465198250630458,\n",
       " 'eval_runtime': 2.7195,\n",
       " 'eval_samples_per_second': 238.648,\n",
       " 'eval_steps_per_second': 7.722,\n",
       " 'epoch': 8.0}"
      ]
     },
     "execution_count": 20,
     "metadata": {},
     "output_type": "execute_result"
    }
   ],
   "source": [
    "trainer.evaluate()"
   ]
  },
  {
   "cell_type": "code",
   "execution_count": 22,
   "id": "7090a567-23a8-4ed1-ba78-291272e0622c",
   "metadata": {},
   "outputs": [],
   "source": [
    "# save the model & tokenizer\n",
    "tokenizer.save_pretrained(\"./bert_base_cased_per_AES_746\")\n",
    "model.save_pretrained(\"./bert_base_cased_per_AES_746\")"
   ]
  },
  {
   "cell_type": "markdown",
   "id": "15882e60-5983-4ab4-972e-d25728639fa2",
   "metadata": {},
   "source": [
    "## Inferencing "
   ]
  },
  {
   "cell_type": "code",
   "execution_count": 53,
   "id": "18f17614-1fe9-46aa-999b-801ca16907af",
   "metadata": {},
   "outputs": [],
   "source": [
    "## Inferencing\n",
    "# Load the tokenizer and model\n",
    "tokenizer = AutoTokenizer.from_pretrained(\"./bert_base_cased_per_AES_746\")\n",
    "model = AutoModelForSequenceClassification.from_pretrained(\"./bert_base_cased_per_AES_746\")"
   ]
  },
  {
   "cell_type": "code",
   "execution_count": 14,
   "id": "c177f631-919b-4d47-964e-bc19069a1acd",
   "metadata": {},
   "outputs": [
    {
     "data": {
      "application/vnd.jupyter.widget-view+json": {
       "model_id": "f73f8ae873244357aee47d0809f5e9b0",
       "version_major": 2,
       "version_minor": 0
      },
      "text/plain": [
       "Map:   0%|          | 0/649 [00:00<?, ? examples/s]"
      ]
     },
     "metadata": {},
     "output_type": "display_data"
    }
   ],
   "source": [
    "# Regression Inference and check QWK \n",
    "def predict(example):\n",
    "    # Extract text from the example\n",
    "    text = example[\"full_text\"]\n",
    "    \n",
    "    # Tokenize and encode the text using the tokenizer\n",
    "    encoded_inputs = tokenizer(text,\n",
    "                      max_length=512,\n",
    "                      truncation=True,\n",
    "                      padding=\"max_length\",\n",
    "                      return_tensors = \"pt\")\n",
    "    \n",
    "    # Perform prediction using the pretrained model\n",
    "    with torch.no_grad():\n",
    "        outputs = model(**encoded_inputs)\n",
    "        predictions = outputs.logits.squeeze().cpu().numpy()\n",
    "\n",
    "    # Raw score\n",
    "    predicted_score = predictions\n",
    "    \n",
    "    # Round and clip predictions to 0-5 range\n",
    "    predicted_label = np.round(predictions).clip(2, 10).astype(int)\n",
    "    \n",
    "    # Update the example with the predicted label\n",
    "    example[\"predicted_score\"] = predicted_score.tolist()\n",
    "    example[\"predicted_label\"] = predicted_label.tolist()\n",
    "    \n",
    "    # Return the updated example\n",
    "    return example\n",
    "    \n",
    "test_pred = test_dataset.map(predict)\n",
    "test_pred_pd = test_pred.to_pandas()"
   ]
  },
  {
   "cell_type": "code",
   "execution_count": 15,
   "id": "57f1a215-114f-4b36-bb2b-3d9744dc53ec",
   "metadata": {},
   "outputs": [
    {
     "name": "stdout",
     "output_type": "stream",
     "text": [
      "0.7010157768210825\n"
     ]
    }
   ],
   "source": [
    "print(cohen_kappa_score(test_pred_pd['predicted_label'], test_pred_pd['label'], weights='quadratic'))"
   ]
  },
  {
   "cell_type": "code",
   "execution_count": 16,
   "id": "c01dec24-65bc-4ee4-b0f0-4fa40d716f57",
   "metadata": {},
   "outputs": [],
   "source": [
    "test_pred_pd.to_csv('ellipse_test_pred.csv', index = False)"
   ]
  },
  {
   "cell_type": "code",
   "execution_count": 19,
   "id": "8d308a6a-1c99-4889-abaf-cad1ef53e09d",
   "metadata": {},
   "outputs": [
    {
     "data": {
      "text/html": [
       "<div>\n",
       "<style scoped>\n",
       "    .dataframe tbody tr th:only-of-type {\n",
       "        vertical-align: middle;\n",
       "    }\n",
       "\n",
       "    .dataframe tbody tr th {\n",
       "        vertical-align: top;\n",
       "    }\n",
       "\n",
       "    .dataframe thead th {\n",
       "        text-align: right;\n",
       "    }\n",
       "</style>\n",
       "<table border=\"1\" class=\"dataframe\">\n",
       "  <thead>\n",
       "    <tr style=\"text-align: right;\">\n",
       "      <th></th>\n",
       "      <th>text_id_kaggle</th>\n",
       "      <th>full_text</th>\n",
       "      <th>Overall</th>\n",
       "      <th>Cohesion</th>\n",
       "      <th>Syntax</th>\n",
       "      <th>Vocabulary</th>\n",
       "      <th>Phraseology</th>\n",
       "      <th>Grammar</th>\n",
       "      <th>Conventions</th>\n",
       "      <th>label</th>\n",
       "      <th>predicted_score</th>\n",
       "      <th>predicted_label</th>\n",
       "    </tr>\n",
       "  </thead>\n",
       "  <tbody>\n",
       "    <tr>\n",
       "      <th>0</th>\n",
       "      <td>EAE70CCAFC13</td>\n",
       "      <td>As a teens, do you think the failure can affec...</td>\n",
       "      <td>2</td>\n",
       "      <td>2</td>\n",
       "      <td>2</td>\n",
       "      <td>3</td>\n",
       "      <td>2</td>\n",
       "      <td>2</td>\n",
       "      <td>2</td>\n",
       "      <td>4</td>\n",
       "      <td>5</td>\n",
       "      <td>5</td>\n",
       "    </tr>\n",
       "    <tr>\n",
       "      <th>1</th>\n",
       "      <td>70E490A83717</td>\n",
       "      <td>To begin with many students enjoy summer than ...</td>\n",
       "      <td>4</td>\n",
       "      <td>4</td>\n",
       "      <td>4</td>\n",
       "      <td>4</td>\n",
       "      <td>4</td>\n",
       "      <td>4</td>\n",
       "      <td>4</td>\n",
       "      <td>8</td>\n",
       "      <td>8</td>\n",
       "      <td>8</td>\n",
       "    </tr>\n",
       "    <tr>\n",
       "      <th>2</th>\n",
       "      <td>4A072A1632BB</td>\n",
       "      <td>There are some schools that are offering to at...</td>\n",
       "      <td>2</td>\n",
       "      <td>3</td>\n",
       "      <td>2</td>\n",
       "      <td>2</td>\n",
       "      <td>2</td>\n",
       "      <td>2</td>\n",
       "      <td>3</td>\n",
       "      <td>5</td>\n",
       "      <td>6</td>\n",
       "      <td>6</td>\n",
       "    </tr>\n",
       "    <tr>\n",
       "      <th>3</th>\n",
       "      <td>F074C2FEC1AF</td>\n",
       "      <td>Technogly can allow peolpe to so many differen...</td>\n",
       "      <td>4</td>\n",
       "      <td>4</td>\n",
       "      <td>4</td>\n",
       "      <td>4</td>\n",
       "      <td>4</td>\n",
       "      <td>4</td>\n",
       "      <td>3</td>\n",
       "      <td>7</td>\n",
       "      <td>6</td>\n",
       "      <td>6</td>\n",
       "    </tr>\n",
       "    <tr>\n",
       "      <th>4</th>\n",
       "      <td>C37595A8AE16</td>\n",
       "      <td>People have different skills. Some people have...</td>\n",
       "      <td>2</td>\n",
       "      <td>2</td>\n",
       "      <td>2</td>\n",
       "      <td>2</td>\n",
       "      <td>2</td>\n",
       "      <td>2</td>\n",
       "      <td>2</td>\n",
       "      <td>4</td>\n",
       "      <td>5</td>\n",
       "      <td>5</td>\n",
       "    </tr>\n",
       "  </tbody>\n",
       "</table>\n",
       "</div>"
      ],
      "text/plain": [
       "  text_id_kaggle                                          full_text  Overall  \\\n",
       "0   EAE70CCAFC13  As a teens, do you think the failure can affec...        2   \n",
       "1   70E490A83717  To begin with many students enjoy summer than ...        4   \n",
       "2   4A072A1632BB  There are some schools that are offering to at...        2   \n",
       "3   F074C2FEC1AF  Technogly can allow peolpe to so many differen...        4   \n",
       "4   C37595A8AE16  People have different skills. Some people have...        2   \n",
       "\n",
       "   Cohesion  Syntax  Vocabulary  Phraseology  Grammar  Conventions  label  \\\n",
       "0         2       2           3            2        2            2      4   \n",
       "1         4       4           4            4        4            4      8   \n",
       "2         3       2           2            2        2            3      5   \n",
       "3         4       4           4            4        4            3      7   \n",
       "4         2       2           2            2        2            2      4   \n",
       "\n",
       "   predicted_score  predicted_label  \n",
       "0                5                5  \n",
       "1                8                8  \n",
       "2                6                6  \n",
       "3                6                6  \n",
       "4                5                5  "
      ]
     },
     "execution_count": 19,
     "metadata": {},
     "output_type": "execute_result"
    }
   ],
   "source": [
    "test_pred_pd.head()"
   ]
  },
  {
   "cell_type": "code",
   "execution_count": 60,
   "id": "50ce60db-6561-4a4a-82aa-735a94c4c3d4",
   "metadata": {},
   "outputs": [],
   "source": [
    "# export test essays as NLP tools input format\n",
    "for index, row in test_pred_pd.iterrows():\n",
    "    essay_id = row['text_id_kaggle']        \n",
    "    essay_content = row['full_text']\n",
    "    \n",
    "    tokenized = tokenizer.tokenize(essay_content, truncation = True) # a list of tokenized word within 512 context window\n",
    "    output_text = tokenizer.convert_tokens_to_string(tokenized)\n",
    "    \n",
    "    file_name = os.path.join('..\\data\\test_essay_txt', f'{essay_id}.txt')\n",
    "\n",
    "    with open(file_name, 'w', encoding='utf-8') as f:\n",
    "        f.write(output_text)"
   ]
  },
  {
   "cell_type": "code",
   "execution_count": null,
   "id": "3d3970f0-32cc-4a17-9b37-0c82571ab61e",
   "metadata": {},
   "outputs": [],
   "source": []
  },
  {
   "cell_type": "code",
   "execution_count": null,
   "id": "4e379b87-58be-4187-82ae-c41cdcb0158d",
   "metadata": {},
   "outputs": [],
   "source": []
  }
 ],
 "metadata": {
  "kernelspec": {
   "display_name": "Python 3 (ipykernel)",
   "language": "python",
   "name": "python3"
  },
  "language_info": {
   "codemirror_mode": {
    "name": "ipython",
    "version": 3
   },
   "file_extension": ".py",
   "mimetype": "text/x-python",
   "name": "python",
   "nbconvert_exporter": "python",
   "pygments_lexer": "ipython3",
   "version": "3.12.7"
  }
 },
 "nbformat": 4,
 "nbformat_minor": 5
}
